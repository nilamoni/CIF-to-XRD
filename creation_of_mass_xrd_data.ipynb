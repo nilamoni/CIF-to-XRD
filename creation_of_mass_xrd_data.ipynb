{
 "cells": [
  {
   "cell_type": "markdown",
   "id": "e8b09083",
   "metadata": {},
   "source": [
    "# <div align=\"center\">Aim of the code</div>"
   ]
  },
  {
   "cell_type": "markdown",
   "id": "ecc1f1af",
   "metadata": {},
   "source": [
    "This code generates the XRD data from a .cif file and stores it in a .csv file. This code automate the process for multple cif files"
   ]
  },
  {
   "cell_type": "markdown",
   "id": "c32cff9d",
   "metadata": {},
   "source": [
    "# Libraries"
   ]
  },
  {
   "cell_type": "code",
   "execution_count": null,
   "id": "de4002b1",
   "metadata": {},
   "outputs": [],
   "source": [
    "import os"
   ]
  },
  {
   "cell_type": "markdown",
   "id": "5b7cb71b",
   "metadata": {},
   "source": [
    "# function to get current/working directory"
   ]
  },
  {
   "cell_type": "code",
   "execution_count": 4,
   "id": "b9fcd271",
   "metadata": {},
   "outputs": [
    {
     "name": "stdout",
     "output_type": "stream",
     "text": [
      "C:\\Users\\nilam\\Desktop\\cif_files\n"
     ]
    }
   ],
   "source": [
    "current_directory = os.getcwd()\n",
    "\n",
    "print(current_directory)"
   ]
  },
  {
   "cell_type": "markdown",
   "id": "e88ac2fa",
   "metadata": {},
   "source": [
    "# How to access files with a common extension in a for loop"
   ]
  },
  {
   "cell_type": "code",
   "execution_count": 15,
   "id": "4873bc15",
   "metadata": {},
   "outputs": [
    {
     "data": {
      "text/plain": [
       "['2000018.cif',\n",
       " '2000019.cif',\n",
       " '2000020.cif',\n",
       " '3000438.cif',\n",
       " '3000439.cif',\n",
       " '3000440.cif',\n",
       " '3000441.cif',\n",
       " '3000442.cif',\n",
       " '4500000.cif',\n",
       " '4500001.cif',\n",
       " '4500002.cif',\n",
       " '4500003.cif',\n",
       " '4500004.cif',\n",
       " '4500005.cif',\n",
       " '4500006.cif',\n",
       " '4500007.cif',\n",
       " '4500008.cif',\n",
       " '4500009.cif',\n",
       " '4500010.cif',\n",
       " '4500011.cif']"
      ]
     },
     "execution_count": 15,
     "metadata": {},
     "output_type": "execute_result"
    }
   ],
   "source": [
    "# Create an empty list to store the names of the .cif files\n",
    "file_names = []\n",
    "\n",
    "for file in os.listdir(current_directory):\n",
    "    if \".cif\" in file:\n",
    "        file_names.append(file)\n",
    "\n",
    "file_names"
   ]
  },
  {
   "cell_type": "markdown",
   "id": "b0961ab1",
   "metadata": {},
   "source": [
    "# How to get the filenames without extension"
   ]
  },
  {
   "cell_type": "code",
   "execution_count": 61,
   "id": "948d43c4",
   "metadata": {},
   "outputs": [
    {
     "data": {
      "text/plain": [
       "['2000018',\n",
       " '2000019',\n",
       " '2000020',\n",
       " '3000438',\n",
       " '3000439',\n",
       " '3000440',\n",
       " '3000441',\n",
       " '3000442',\n",
       " '4500000',\n",
       " '4500001',\n",
       " '4500002',\n",
       " '4500003',\n",
       " '4500004',\n",
       " '4500005',\n",
       " '4500006',\n",
       " '4500007',\n",
       " '4500008',\n",
       " '4500009',\n",
       " '4500010',\n",
       " '4500011']"
      ]
     },
     "execution_count": 61,
     "metadata": {},
     "output_type": "execute_result"
    }
   ],
   "source": [
    "# Create an empty list to store the names of the .cif files\n",
    "file_names_without_extension = []\n",
    "\n",
    "for file in os.listdir(current_directory):\n",
    "    if \".cif\" in file:\n",
    "        only_file_name = os.path.splitext(file)[0]\n",
    "        file_names_without_extension.append(only_file_name)\n",
    "\n",
    "file_names_without_extension"
   ]
  },
  {
   "cell_type": "markdown",
   "id": "faaa00a2",
   "metadata": {},
   "source": [
    "#  Create a list of filenames for storing the XRD data with .csv extension"
   ]
  },
  {
   "cell_type": "code",
   "execution_count": 42,
   "id": "8cc0454b",
   "metadata": {},
   "outputs": [
    {
     "data": {
      "text/plain": [
       "['2000018.csv',\n",
       " '2000019.csv',\n",
       " '2000020.csv',\n",
       " '3000438.csv',\n",
       " '3000439.csv',\n",
       " '3000440.csv',\n",
       " '3000441.csv',\n",
       " '3000442.csv',\n",
       " '4500000.csv',\n",
       " '4500001.csv',\n",
       " '4500002.csv',\n",
       " '4500003.csv',\n",
       " '4500004.csv',\n",
       " '4500005.csv',\n",
       " '4500006.csv',\n",
       " '4500007.csv',\n",
       " '4500008.csv',\n",
       " '4500009.csv',\n",
       " '4500010.csv',\n",
       " '4500011.csv']"
      ]
     },
     "execution_count": 42,
     "metadata": {},
     "output_type": "execute_result"
    }
   ],
   "source": [
    "# Create an empty list to store the names of the .csv files\n",
    "XRD_file_names = []\n",
    "\n",
    "for names in file_names_without_extension:\n",
    "    temp = names + '.csv'\n",
    "    XRD_file_names.append(temp)\n",
    "\n",
    "\n",
    "XRD_file_names"
   ]
  },
  {
   "cell_type": "markdown",
   "id": "fc4ecacc",
   "metadata": {},
   "source": [
    "# Generate XRD data for each of the above files using for loop"
   ]
  },
  {
   "cell_type": "code",
   "execution_count": 54,
   "id": "b993f910",
   "metadata": {
    "scrolled": true
   },
   "outputs": [
    {
     "name": "stderr",
     "output_type": "stream",
     "text": [
      "D:\\Users\\nilam\\anaconda3\\lib\\site-packages\\Dans_Diffraction\\functions_crystallography.py:3136: RuntimeWarning: invalid value encountered in arcsin\n",
      "  twotheta = 2 * np.arcsin(qmag * wavelength_a / (4 * np.pi))\n",
      "D:\\Users\\nilam\\anaconda3\\lib\\site-packages\\Dans_Diffraction\\functions_crystallography.py:3136: RuntimeWarning: invalid value encountered in arcsin\n",
      "  twotheta = 2 * np.arcsin(qmag * wavelength_a / (4 * np.pi))\n"
     ]
    },
    {
     "name": "stdout",
     "output_type": "stream",
     "text": [
      "Splitting 35242 reflections (340 atoms) into 2 parts\n",
      " Starting  1/ 2: 0:17621\n",
      " Starting  2/ 2: 17621:35242\n"
     ]
    },
    {
     "name": "stderr",
     "output_type": "stream",
     "text": [
      "D:\\Users\\nilam\\anaconda3\\lib\\site-packages\\Dans_Diffraction\\functions_crystallography.py:3136: RuntimeWarning: invalid value encountered in arcsin\n",
      "  twotheta = 2 * np.arcsin(qmag * wavelength_a / (4 * np.pi))\n",
      "D:\\Users\\nilam\\anaconda3\\lib\\site-packages\\Dans_Diffraction\\functions_crystallography.py:3136: RuntimeWarning: invalid value encountered in arcsin\n",
      "  twotheta = 2 * np.arcsin(qmag * wavelength_a / (4 * np.pi))\n",
      "D:\\Users\\nilam\\anaconda3\\lib\\site-packages\\Dans_Diffraction\\functions_crystallography.py:3136: RuntimeWarning: invalid value encountered in arcsin\n",
      "  twotheta = 2 * np.arcsin(qmag * wavelength_a / (4 * np.pi))\n",
      "D:\\Users\\nilam\\anaconda3\\lib\\site-packages\\Dans_Diffraction\\functions_crystallography.py:3136: RuntimeWarning: invalid value encountered in arcsin\n",
      "  twotheta = 2 * np.arcsin(qmag * wavelength_a / (4 * np.pi))\n",
      "D:\\Users\\nilam\\anaconda3\\lib\\site-packages\\Dans_Diffraction\\functions_crystallography.py:3136: RuntimeWarning: invalid value encountered in arcsin\n",
      "  twotheta = 2 * np.arcsin(qmag * wavelength_a / (4 * np.pi))\n",
      "D:\\Users\\nilam\\anaconda3\\lib\\site-packages\\Dans_Diffraction\\functions_crystallography.py:3136: RuntimeWarning: invalid value encountered in arcsin\n",
      "  twotheta = 2 * np.arcsin(qmag * wavelength_a / (4 * np.pi))\n"
     ]
    },
    {
     "name": "stdout",
     "output_type": "stream",
     "text": [
      "Splitting 36850 reflections (424 atoms) into 2 parts\n",
      " Starting  1/ 2: 0:18425\n",
      " Starting  2/ 2: 18425:36850\n"
     ]
    },
    {
     "name": "stderr",
     "output_type": "stream",
     "text": [
      "D:\\Users\\nilam\\anaconda3\\lib\\site-packages\\Dans_Diffraction\\functions_crystallography.py:3136: RuntimeWarning: invalid value encountered in arcsin\n",
      "  twotheta = 2 * np.arcsin(qmag * wavelength_a / (4 * np.pi))\n"
     ]
    },
    {
     "name": "stdout",
     "output_type": "stream",
     "text": [
      "Splitting 39128 reflections (424 atoms) into 2 parts\n",
      " Starting  1/ 2: 0:19564\n",
      " Starting  2/ 2: 19564:39128\n"
     ]
    },
    {
     "name": "stderr",
     "output_type": "stream",
     "text": [
      "D:\\Users\\nilam\\anaconda3\\lib\\site-packages\\Dans_Diffraction\\functions_crystallography.py:3136: RuntimeWarning: invalid value encountered in arcsin\n",
      "  twotheta = 2 * np.arcsin(qmag * wavelength_a / (4 * np.pi))\n",
      "D:\\Users\\nilam\\anaconda3\\lib\\site-packages\\Dans_Diffraction\\functions_crystallography.py:3136: RuntimeWarning: invalid value encountered in arcsin\n",
      "  twotheta = 2 * np.arcsin(qmag * wavelength_a / (4 * np.pi))\n",
      "D:\\Users\\nilam\\anaconda3\\lib\\site-packages\\Dans_Diffraction\\functions_crystallography.py:3136: RuntimeWarning: invalid value encountered in arcsin\n",
      "  twotheta = 2 * np.arcsin(qmag * wavelength_a / (4 * np.pi))\n",
      "D:\\Users\\nilam\\anaconda3\\lib\\site-packages\\Dans_Diffraction\\functions_crystallography.py:3136: RuntimeWarning: invalid value encountered in arcsin\n",
      "  twotheta = 2 * np.arcsin(qmag * wavelength_a / (4 * np.pi))\n",
      "D:\\Users\\nilam\\anaconda3\\lib\\site-packages\\Dans_Diffraction\\functions_crystallography.py:3136: RuntimeWarning: invalid value encountered in arcsin\n",
      "  twotheta = 2 * np.arcsin(qmag * wavelength_a / (4 * np.pi))\n"
     ]
    },
    {
     "name": "stdout",
     "output_type": "stream",
     "text": [
      "Splitting 33924 reflections (408 atoms) into 2 parts\n",
      " Starting  1/ 2: 0:16962\n",
      " Starting  2/ 2: 16962:33924\n"
     ]
    },
    {
     "name": "stderr",
     "output_type": "stream",
     "text": [
      "D:\\Users\\nilam\\anaconda3\\lib\\site-packages\\Dans_Diffraction\\functions_crystallography.py:3136: RuntimeWarning: invalid value encountered in arcsin\n",
      "  twotheta = 2 * np.arcsin(qmag * wavelength_a / (4 * np.pi))\n",
      "D:\\Users\\nilam\\anaconda3\\lib\\site-packages\\Dans_Diffraction\\functions_crystallography.py:3136: RuntimeWarning: invalid value encountered in arcsin\n",
      "  twotheta = 2 * np.arcsin(qmag * wavelength_a / (4 * np.pi))\n",
      "D:\\Users\\nilam\\anaconda3\\lib\\site-packages\\Dans_Diffraction\\functions_crystallography.py:3136: RuntimeWarning: invalid value encountered in arcsin\n",
      "  twotheta = 2 * np.arcsin(qmag * wavelength_a / (4 * np.pi))\n",
      "D:\\Users\\nilam\\anaconda3\\lib\\site-packages\\Dans_Diffraction\\functions_crystallography.py:3136: RuntimeWarning: invalid value encountered in arcsin\n",
      "  twotheta = 2 * np.arcsin(qmag * wavelength_a / (4 * np.pi))\n",
      "D:\\Users\\nilam\\anaconda3\\lib\\site-packages\\Dans_Diffraction\\functions_crystallography.py:3136: RuntimeWarning: invalid value encountered in arcsin\n",
      "  twotheta = 2 * np.arcsin(qmag * wavelength_a / (4 * np.pi))\n",
      "D:\\Users\\nilam\\anaconda3\\lib\\site-packages\\Dans_Diffraction\\functions_crystallography.py:3136: RuntimeWarning: invalid value encountered in arcsin\n",
      "  twotheta = 2 * np.arcsin(qmag * wavelength_a / (4 * np.pi))\n"
     ]
    }
   ],
   "source": [
    "# import the library for manimulating cif data\n",
    "import Dans_Diffraction as dif\n",
    "\n",
    "# import the library for normalizing the intensity data of XRD data\n",
    "from sklearn import preprocessing\n",
    "\n",
    "# define relevant parameters\n",
    "energy_kev = dif.fc.wave2energy(1.5498)  # 8 keV\n",
    "max_twotheta = 180\n",
    "\n",
    "count = 0\n",
    "\n",
    "# Enter for loop\n",
    "for files in file_names:\n",
    "    \n",
    "    xtl = dif.Crystal(files)\n",
    "    \n",
    "    # get the lattice parameters, a,b,c, and alpha, beta, gamma\n",
    "    lattice_parameters = xtl.Cell.lp()\n",
    "    \n",
    "    \n",
    "    wave_vector, intensity, reflections = xtl.Scatter.powder('xray', units='Q', energy_kev=energy_kev, peak_width=0.01, background=0)\n",
    "    \n",
    "    \n",
    "    # convert wavevector = 2 pi/d to two-theta:\n",
    "    twotheta = dif.fc.cal2theta(wave_vector, energy_kev)\n",
    "\n",
    "\n",
    "    # normalize the intensity data for machine learning purposes, say\n",
    "    normalized_intensity = preprocessing.normalize([intensity])\n",
    "\n",
    "    \n",
    "    # create a file with .csv extension to store the XRD data\n",
    "    f = open(XRD_file_names[count], \"w\")  # r’: Read mode, ‘w’: Write mode,‘a’: Append mode,\n",
    "                                    # ‘x’: Exclusive creation mode, ‘b’: Binary mode, ‘t’: Text mode\n",
    "    \n",
    "    # write the lattice parameters in the first row of the file\n",
    "    f.write(\"{}\\n\".format(lattice_parameters))\n",
    "\n",
    "    for i in range(len(twotheta)):\n",
    "        f.write(\"{},{}\\n\".format(twotheta[i], normalized_intensity[0][i]))\n",
    "\n",
    "    f.close()\n",
    "    \n",
    "    count += 1        # this simply means count = count + 1\n",
    "\n"
   ]
  },
  {
   "cell_type": "markdown",
   "id": "d83b804d",
   "metadata": {},
   "source": [
    "# Appendix"
   ]
  },
  {
   "cell_type": "markdown",
   "id": "514004d7",
   "metadata": {},
   "source": [
    "# How to modify any entry in the above list"
   ]
  },
  {
   "cell_type": "code",
   "execution_count": 63,
   "id": "816ba42a",
   "metadata": {},
   "outputs": [
    {
     "name": "stdout",
     "output_type": "stream",
     "text": [
      "2000018.dat\n"
     ]
    }
   ],
   "source": [
    "modified_name = file_names_without_extension[0] + '.dat'\n",
    "\n",
    "print(modified_name)\n"
   ]
  },
  {
   "cell_type": "code",
   "execution_count": 64,
   "id": "673dfd63",
   "metadata": {},
   "outputs": [
    {
     "name": "stdout",
     "output_type": "stream",
     "text": [
      "2000018.txt\n"
     ]
    }
   ],
   "source": [
    "# Or\n",
    "print(\"%s.txt\" % file_names_without_extension[0])"
   ]
  },
  {
   "cell_type": "code",
   "execution_count": null,
   "id": "8abfe531",
   "metadata": {},
   "outputs": [],
   "source": []
  }
 ],
 "metadata": {
  "kernelspec": {
   "display_name": "Python 3 (ipykernel)",
   "language": "python",
   "name": "python3"
  },
  "language_info": {
   "codemirror_mode": {
    "name": "ipython",
    "version": 3
   },
   "file_extension": ".py",
   "mimetype": "text/x-python",
   "name": "python",
   "nbconvert_exporter": "python",
   "pygments_lexer": "ipython3",
   "version": "3.10.9"
  }
 },
 "nbformat": 4,
 "nbformat_minor": 5
}
